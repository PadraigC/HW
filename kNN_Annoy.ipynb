{
 "cells": [
  {
   "cell_type": "markdown",
   "metadata": {},
   "source": [
    "## Approximate Nearest Neighbour using Annoy  \n",
    "https://pypi.org/project/annoy/  \n",
    "Based on code from   \n",
    "https://www.kaggle.com/nicw102168/nearest-neighbor-classification-with-annoy"
   ]
  },
  {
   "cell_type": "code",
   "execution_count": 1,
   "metadata": {},
   "outputs": [],
   "source": [
    "import annoy\n",
    "import pandas as pd\n",
    "import numpy as np\n",
    "from sklearn import preprocessing\n",
    "from sklearn.neighbors import KNeighborsClassifier\n",
    "from kNNAnnoy import kNNAnnoyClassifier\n",
    "from sklearn.model_selection import train_test_split\n",
    "import time\n",
    "import statistics\n",
    "from sklearn import metrics\n",
    "import kNNDataLoader\n",
    "import matplotlib.pyplot as plt"
   ]
  },
  {
   "cell_type": "code",
   "execution_count": 2,
   "metadata": {},
   "outputs": [
    {
     "data": {
      "text/plain": [
       "['Credit', 'HTRU', 'Shuttle', 'Letter']"
      ]
     },
     "execution_count": 2,
     "metadata": {},
     "output_type": "execute_result"
    }
   ],
   "source": [
    "Name_arr, X_dir, y_dir = kNNDataLoader.data_loader()\n",
    "Name_arr"
   ]
  },
  {
   "cell_type": "code",
   "execution_count": 3,
   "metadata": {},
   "outputs": [],
   "source": [
    "ds = 'Letter'\n",
    "X_train, X_test, y_train, y_test = train_test_split(X_dir[ds], y_dir[ds], \n",
    "                                                    random_state=0, test_size=1/2)"
   ]
  },
  {
   "cell_type": "code",
   "execution_count": 4,
   "metadata": {},
   "outputs": [],
   "source": [
    "ts = time.time()\n",
    "kNN = KNeighborsClassifier(n_neighbors=5)\n",
    "kNN = kNN.fit(X_train, y_train)\n",
    "y_dash = kNN.predict(X_test)\n",
    "tkNN = time.time() - ts"
   ]
  },
  {
   "cell_type": "code",
   "execution_count": 5,
   "metadata": {},
   "outputs": [
    {
     "name": "stdout",
     "output_type": "stream",
     "text": [
      "kNN Time:  2.6283369064331055\n",
      "Accuracy: 0.93\n"
     ]
    }
   ],
   "source": [
    "print('kNN Time: ',tkNN)\n",
    "acc = metrics.accuracy_score(y_test, y_dash)\n",
    "print(\"Accuracy: {0:.2f}\".format(acc)) \n",
    "confusion = metrics.confusion_matrix(y_test, y_dash)\n",
    "#print(\"Confusion matrix:\\n{}\".format(confusion)) "
   ]
  },
  {
   "cell_type": "markdown",
   "metadata": {},
   "source": [
    "## kNNAnnoyClassifier\n",
    "\n",
    "### Defaults\n",
    "metric = 'euclidean'\n",
    "n_trees = 10\n",
    "n_neighbors = 5\n"
   ]
  },
  {
   "cell_type": "code",
   "execution_count": 6,
   "metadata": {},
   "outputs": [],
   "source": [
    "from kNNAnnoy import kNNAnnoyClassifier"
   ]
  },
  {
   "cell_type": "code",
   "execution_count": 7,
   "metadata": {},
   "outputs": [],
   "source": [
    "ANN = kNNAnnoyClassifier(n_neighbors = 5, n_trees = 10)\n",
    "ts = time.time()\n",
    "\n",
    "ANN = ANN.fit(X_train, y_train)\n",
    "y_hat = ANN.predict(X_test)\n",
    "\n",
    "tf = time.time()"
   ]
  },
  {
   "cell_type": "code",
   "execution_count": 8,
   "metadata": {},
   "outputs": [
    {
     "name": "stdout",
     "output_type": "stream",
     "text": [
      "AnnonykNN Time: 0.64\n",
      "Accuracy: 0.92\n"
     ]
    }
   ],
   "source": [
    "acc = metrics.accuracy_score(y_test, y_hat)\n",
    "conf = metrics.confusion_matrix(y_test, y_hat)\n",
    "\n",
    "print(\"AnnonykNN Time: {0:.2f}\".format(tf-ts))\n",
    "print(\"Accuracy: {0:.2f}\".format(acc)) \n",
    "#print(\"Confusion matrix:\\n{}\".format(conf)) "
   ]
  },
  {
   "cell_type": "code",
   "execution_count": 9,
   "metadata": {},
   "outputs": [
    {
     "data": {
      "text/plain": [
       "<annoy.Annoy at 0x12090d2b0>"
      ]
     },
     "execution_count": 9,
     "metadata": {},
     "output_type": "execute_result"
    }
   ],
   "source": [
    "ANN.t"
   ]
  },
  {
   "cell_type": "markdown",
   "metadata": {},
   "source": [
    "## ANN Accuracy Evaluation"
   ]
  },
  {
   "cell_type": "code",
   "execution_count": 10,
   "metadata": {},
   "outputs": [],
   "source": [
    "ANN = kNNAnnoyClassifier(n_neighbors = 5, n_trees = 1)\n",
    "kNN = KNeighborsClassifier(n_neighbors=5)\n",
    "\n",
    "m_names = ['k-NN','ANN']\n",
    "models = {'k-NN':kNN, 'ANN':ANN}"
   ]
  },
  {
   "cell_type": "code",
   "execution_count": 11,
   "metadata": {},
   "outputs": [
    {
     "name": "stdout",
     "output_type": "stream",
     "text": [
      "k-NN\n",
      "Credit\n",
      "12.471357107162476\n",
      "HTRU\n",
      "0.51981520652771\n",
      "Shuttle\n",
      "3.0626699924468994\n",
      "Letter\n",
      "1.9638431072235107\n",
      "ANN\n",
      "Credit\n",
      "0.30876994132995605\n",
      "HTRU\n",
      "0.13580107688903809\n",
      "Shuttle\n",
      "0.5034849643707275\n",
      "Letter\n",
      "0.2763230800628662\n"
     ]
    }
   ],
   "source": [
    "ANN_acc = {}\n",
    "ANN_t = {}\n",
    "\n",
    "for m_name in models:\n",
    "    m = models[m_name]\n",
    "    print(m_name)\n",
    "    times = {}\n",
    "    accs = {}\n",
    "    for ds in Name_arr:\n",
    "        print(ds)\n",
    "        X = X_dir[ds]\n",
    "        y = y_dir[ds]\n",
    "        \n",
    "        t_start = time.time()\n",
    "        X_train, X_test, y_train, y_test = train_test_split(X_dir[ds], y_dir[ds], \n",
    "                                                    random_state=0, test_size=1/2)\n",
    "        Model = m.fit(X_train, y_train)\n",
    "        y_hat = Model.predict(X_test)\n",
    " \n",
    "        t = time.time()-t_start\n",
    "        acc = metrics.accuracy_score(y_test, y_hat)\n",
    "\n",
    "        times[ds]= t\n",
    "        accs[ds]= acc\n",
    "        print(t)\n",
    "    ANN_acc[m_name]=accs\n",
    "    ANN_t[m_name]=times"
   ]
  },
  {
   "cell_type": "code",
   "execution_count": 12,
   "metadata": {},
   "outputs": [
    {
     "data": {
      "text/plain": [
       "{'k-NN': {'Credit': 0.7900666666666667,\n",
       "  'HTRU': 0.9793272991395686,\n",
       "  'Shuttle': 0.9984365659631214,\n",
       "  'Letter': 0.9281},\n",
       " 'ANN': {'Credit': 0.7938,\n",
       "  'HTRU': 0.9776511342049391,\n",
       "  'Shuttle': 0.9971950154044236,\n",
       "  'Letter': 0.7767}}"
      ]
     },
     "execution_count": 12,
     "metadata": {},
     "output_type": "execute_result"
    }
   ],
   "source": [
    "ANN_acc"
   ]
  },
  {
   "cell_type": "code",
   "execution_count": 13,
   "metadata": {
    "scrolled": false
   },
   "outputs": [],
   "source": [
    "resA_pd = pd.DataFrame(ANN_acc)\n",
    "rest_pd = pd.DataFrame(ANN_t)"
   ]
  },
  {
   "cell_type": "code",
   "execution_count": 14,
   "metadata": {},
   "outputs": [
    {
     "data": {
      "text/html": [
       "<div>\n",
       "<style scoped>\n",
       "    .dataframe tbody tr th:only-of-type {\n",
       "        vertical-align: middle;\n",
       "    }\n",
       "\n",
       "    .dataframe tbody tr th {\n",
       "        vertical-align: top;\n",
       "    }\n",
       "\n",
       "    .dataframe thead th {\n",
       "        text-align: right;\n",
       "    }\n",
       "</style>\n",
       "<table border=\"1\" class=\"dataframe\">\n",
       "  <thead>\n",
       "    <tr style=\"text-align: right;\">\n",
       "      <th></th>\n",
       "      <th>k-NN</th>\n",
       "      <th>ANN</th>\n",
       "      <th>Acc Percent</th>\n",
       "      <th>Time Percent</th>\n",
       "    </tr>\n",
       "  </thead>\n",
       "  <tbody>\n",
       "    <tr>\n",
       "      <th>Credit</th>\n",
       "      <td>0.790067</td>\n",
       "      <td>0.793800</td>\n",
       "      <td>100.472534</td>\n",
       "      <td>2.475833</td>\n",
       "    </tr>\n",
       "    <tr>\n",
       "      <th>HTRU</th>\n",
       "      <td>0.979327</td>\n",
       "      <td>0.977651</td>\n",
       "      <td>99.828845</td>\n",
       "      <td>26.124876</td>\n",
       "    </tr>\n",
       "    <tr>\n",
       "      <th>Shuttle</th>\n",
       "      <td>0.998437</td>\n",
       "      <td>0.997195</td>\n",
       "      <td>99.875651</td>\n",
       "      <td>16.439413</td>\n",
       "    </tr>\n",
       "    <tr>\n",
       "      <th>Letter</th>\n",
       "      <td>0.928100</td>\n",
       "      <td>0.776700</td>\n",
       "      <td>83.687103</td>\n",
       "      <td>14.070527</td>\n",
       "    </tr>\n",
       "  </tbody>\n",
       "</table>\n",
       "</div>"
      ],
      "text/plain": [
       "             k-NN       ANN  Acc Percent  Time Percent\n",
       "Credit   0.790067  0.793800   100.472534      2.475833\n",
       "HTRU     0.979327  0.977651    99.828845     26.124876\n",
       "Shuttle  0.998437  0.997195    99.875651     16.439413\n",
       "Letter   0.928100  0.776700    83.687103     14.070527"
      ]
     },
     "execution_count": 14,
     "metadata": {},
     "output_type": "execute_result"
    }
   ],
   "source": [
    "resA_pd['Acc Percent']=resA_pd['ANN']/resA_pd['k-NN']*100\n",
    "resA_pd['Time Percent']=rest_pd['ANN']/rest_pd['k-NN']*100\n",
    "resA_pd"
   ]
  },
  {
   "cell_type": "code",
   "execution_count": 25,
   "metadata": {
    "scrolled": true
   },
   "outputs": [
    {
     "data": {
      "image/png": "[encoded data removed]",
      "text/plain": [
       "<Figure size 432x288 with 2 Axes>"
      ]
     },
     "metadata": {
      "needs_background": "light"
     },
     "output_type": "display_data"
    }
   ],
   "source": [
    "\n",
    "width = .35 # width of a bar\n",
    "\n",
    "ax1=resA_pd[['k-NN','ANN']].plot(kind='bar', width = width, \n",
    "                                 figsize=(6,4),\n",
    "                                 color = ('royalblue','skyblue'))\n",
    "ax2=resA_pd['Time Percent'].plot(secondary_y=True, color = 'r', markersize=12, mew =2,\n",
    "                                 marker = 'x', linewidth = 0)\n",
    "\n",
    "plt.xlim([-width, 4-2*width])\n",
    "ax2.set_ylim(0,100)\n",
    "ax1.set_ylabel('Accuracy',fontsize = 14)\n",
    "ax2.set_ylabel('Time %', color = 'r', fontsize = 14)\n",
    "\n",
    "plt.show()"
   ]
  },
  {
   "cell_type": "code",
   "execution_count": null,
   "metadata": {},
   "outputs": [],
   "source": []
  },
  {
   "cell_type": "markdown",
   "metadata": {},
   "source": [
    "## Accuracy v No of Trees"
   ]
  },
  {
   "cell_type": "code",
   "execution_count": 26,
   "metadata": {},
   "outputs": [],
   "source": [
    "TTrees = 10\n",
    "nTrials = 5\n",
    "ds = 'Letter'\n",
    "X = X_dir[ds]\n",
    "y = y_dir[ds]\n",
    "X_train, X_test, y_train, y_test = train_test_split(X_dir[ds], y_dir[ds], \n",
    "                                                    random_state=0, test_size=1/2)\n",
    "times = []\n",
    "accs = []\n",
    "\n",
    "t_max, a_max = (1.2825381755828857, 0.9281)\n",
    "for nt in range(1, TTrees + 1):\n",
    "    ANN = kNNAnnoyClassifier(n_neighbors = 5, n_trees = nt)\n",
    "    tot = 0\n",
    "    for tt in range(nTrials):\n",
    "        t_start = time.time()\n",
    "        Model = ANN.fit(X_train, y_train)\n",
    "        y_hat = Model.predict(X_test)\n",
    "        tot += (time.time()-t_start)\n",
    "        acc = metrics.accuracy_score(y_test, y_hat)\n",
    "    t_avg = tot/nTrials\n",
    "    times.append(t_avg/t_max*100)   \n",
    "    accs.append(acc/a_max*100)\n"
   ]
  },
  {
   "cell_type": "code",
   "execution_count": 27,
   "metadata": {},
   "outputs": [],
   "source": [
    "df = pd.DataFrame(list(zip(times, accs)), index = range(1,TTrees + 1),\n",
    "              columns =['Time', 'Accuracy']) \n"
   ]
  },
  {
   "cell_type": "code",
   "execution_count": 28,
   "metadata": {},
   "outputs": [
    {
     "data": {
      "text/html": [
       "<div>\n",
       "<style scoped>\n",
       "    .dataframe tbody tr th:only-of-type {\n",
       "        vertical-align: middle;\n",
       "    }\n",
       "\n",
       "    .dataframe tbody tr th {\n",
       "        vertical-align: top;\n",
       "    }\n",
       "\n",
       "    .dataframe thead th {\n",
       "        text-align: right;\n",
       "    }\n",
       "</style>\n",
       "<table border=\"1\" class=\"dataframe\">\n",
       "  <thead>\n",
       "    <tr style=\"text-align: right;\">\n",
       "      <th></th>\n",
       "      <th>Time</th>\n",
       "      <th>Accuracy</th>\n",
       "    </tr>\n",
       "  </thead>\n",
       "  <tbody>\n",
       "    <tr>\n",
       "      <th>1</th>\n",
       "      <td>12.815235</td>\n",
       "      <td>83.687103</td>\n",
       "    </tr>\n",
       "    <tr>\n",
       "      <th>2</th>\n",
       "      <td>13.013806</td>\n",
       "      <td>87.986208</td>\n",
       "    </tr>\n",
       "    <tr>\n",
       "      <th>3</th>\n",
       "      <td>14.950592</td>\n",
       "      <td>92.382286</td>\n",
       "    </tr>\n",
       "    <tr>\n",
       "      <th>4</th>\n",
       "      <td>17.082282</td>\n",
       "      <td>94.774270</td>\n",
       "    </tr>\n",
       "    <tr>\n",
       "      <th>5</th>\n",
       "      <td>18.278176</td>\n",
       "      <td>96.024135</td>\n",
       "    </tr>\n",
       "    <tr>\n",
       "      <th>6</th>\n",
       "      <td>20.216725</td>\n",
       "      <td>97.177028</td>\n",
       "    </tr>\n",
       "    <tr>\n",
       "      <th>7</th>\n",
       "      <td>23.418142</td>\n",
       "      <td>97.898933</td>\n",
       "    </tr>\n",
       "    <tr>\n",
       "      <th>8</th>\n",
       "      <td>25.132604</td>\n",
       "      <td>98.373020</td>\n",
       "    </tr>\n",
       "    <tr>\n",
       "      <th>9</th>\n",
       "      <td>27.775356</td>\n",
       "      <td>98.707036</td>\n",
       "    </tr>\n",
       "    <tr>\n",
       "      <th>10</th>\n",
       "      <td>27.784034</td>\n",
       "      <td>99.019502</td>\n",
       "    </tr>\n",
       "  </tbody>\n",
       "</table>\n",
       "</div>"
      ],
      "text/plain": [
       "         Time   Accuracy\n",
       "1   12.815235  83.687103\n",
       "2   13.013806  87.986208\n",
       "3   14.950592  92.382286\n",
       "4   17.082282  94.774270\n",
       "5   18.278176  96.024135\n",
       "6   20.216725  97.177028\n",
       "7   23.418142  97.898933\n",
       "8   25.132604  98.373020\n",
       "9   27.775356  98.707036\n",
       "10  27.784034  99.019502"
      ]
     },
     "execution_count": 28,
     "metadata": {},
     "output_type": "execute_result"
    }
   ],
   "source": [
    "df"
   ]
  },
  {
   "cell_type": "code",
   "execution_count": 33,
   "metadata": {},
   "outputs": [
    {
     "data": {
      "image/png": "[encoded data removed]",
      "text/plain": [
       "<Figure size 432x288 with 2 Axes>"
      ]
     },
     "metadata": {
      "needs_background": "light"
     },
     "output_type": "display_data"
    }
   ],
   "source": [
    "fig, ax1 = plt.subplots(figsize=(6,4))\n",
    "r = range(1,11)\n",
    "color = 'skyblue'\n",
    "ax1.set_xlabel('Trees')\n",
    "ax1.set_ylabel('Accuracy %', fontsize = 14 )\n",
    "ax1.bar(r, df['Accuracy'], color=color, width = 0.5)\n",
    "ax1.grid(which = 'major')\n",
    "ax2 = ax1.twinx()  # instantiate a second axes that shares the same x-axis\n",
    "\n",
    "color = 'r'\n",
    "ax2.set_ylabel('Time %',color = 'r', fontsize = 14 )  # we already handled the x-label with ax1\n",
    "ax2.plot(r, df['Time'], color=color, marker = 'x', markersize=12, mew =2,\n",
    "                                  linewidth = 0)\n",
    "ax2.set_ylim(1,100)\n",
    "ax1.set_ylim(1,100)\n",
    "\n",
    "ax2.legend(loc = 'upper left')\n",
    "\n",
    "fig.tight_layout()  # otherwise the right y-label is slightly clipped\n",
    "plt.show()"
   ]
  },
  {
   "cell_type": "code",
   "execution_count": 73,
   "metadata": {},
   "outputs": [],
   "source": []
  },
  {
   "cell_type": "code",
   "execution_count": null,
   "metadata": {},
   "outputs": [],
   "source": []
  }
 ],
 "metadata": {
  "kernelspec": {
   "display_name": "Python 3",
   "language": "python",
   "name": "python3"
  },
  "language_info": {
   "codemirror_mode": {
    "name": "ipython",
    "version": 3
   },
   "file_extension": ".py",
   "mimetype": "text/x-python",
   "name": "python",
   "nbconvert_exporter": "python",
   "pygments_lexer": "ipython3",
   "version": "3.7.1"
  }
 },
 "nbformat": 4,
 "nbformat_minor": 2
}
